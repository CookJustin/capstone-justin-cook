{
  "nbformat": 4,
  "nbformat_minor": 5,
  "metadata": {
    "celltoolbar": "Tags",
    "kernelspec": {
      "name": "python3",
      "display_name": "Python 3.9.2 64-bit"
    },
    "language_info": {
      "codemirror_mode": {
        "name": "ipython",
        "version": 3
      },
      "file_extension": ".py",
      "mimetype": "text/x-python",
      "name": "python",
      "nbconvert_exporter": "python",
      "pygments_lexer": "ipython3",
      "version": "3.9.2"
    },
    "colab": {
      "name": "Capstone.ipynb",
      "provenance": []
    },
    "interpreter": {
      "hash": "ee5cc6fef2d70a7e71ee3826687cbd150f18158e0b1eef11d4f4f92bb920e304"
    }
  },
  "cells": [
    {
      "cell_type": "code",
      "metadata": {
        "tags": [
          "hide"
        ],
        "id": "a2cf205f",
        "outputId": "a7467421-2ead-429c-843a-109eca184d41"
      },
      "source": [
        "!pip install apyori\n",
        "!pip install voila\n",
        "import numpy as np \n",
        "import matplotlib.pyplot as plt\n",
        "import pandas as pd\n",
        "import ipywidgets as widgets\n",
        "from apyori import apriori"
      ],
      "id": "a2cf205f",
      "execution_count": 1,
      "outputs": [
        {
          "output_type": "stream",
          "name": "stdout",
          "text": [
            "Requirement already satisfied: apyori in c:\\python\\python39\\lib\\site-packages (1.1.2)\n",
            "Requirement already satisfied: voila in c:\\python\\python39\\lib\\site-packages (0.2.10)\n",
            "Requirement already satisfied: jupyter-client<7,>=6.1.3 in c:\\python\\python39\\lib\\site-packages (from voila) (6.1.11)\n",
            "Requirement already satisfied: jupyter-server<2.0.0,>=0.3.0 in c:\\python\\python39\\lib\\site-packages (from voila) (1.9.0)\n",
            "Requirement already satisfied: nbconvert<7,>=6.0.0 in c:\\python\\python39\\lib\\site-packages (from voila) (6.0.7)\n",
            "Requirement already satisfied: nbclient<0.6,>=0.4.0 in c:\\python\\python39\\lib\\site-packages (from voila) (0.5.3)\n",
            "Requirement already satisfied: pyzmq>=13 in c:\\python\\python39\\lib\\site-packages (from jupyter-client<7,>=6.1.3->voila) (22.0.3)\n",
            "Requirement already satisfied: python-dateutil>=2.1 in c:\\python\\python39\\lib\\site-packages (from jupyter-client<7,>=6.1.3->voila) (2.8.1)\n",
            "Requirement already satisfied: jupyter-core>=4.6.0 in c:\\python\\python39\\lib\\site-packages (from jupyter-client<7,>=6.1.3->voila) (4.7.1)\n",
            "Requirement already satisfied: tornado>=4.1 in c:\\python\\python39\\lib\\site-packages (from jupyter-client<7,>=6.1.3->voila) (6.1)\n",
            "Requirement already satisfied: traitlets in c:\\python\\python39\\lib\\site-packages (from jupyter-client<7,>=6.1.3->voila) (5.0.5)\n",
            "Requirement already satisfied: pywin32>=1.0 in c:\\python\\python39\\lib\\site-packages (from jupyter-core>=4.6.0->jupyter-client<7,>=6.1.3->voila) (300)\n",
            "Requirement already satisfied: anyio<4,>=3.1.0 in c:\\python\\python39\\lib\\site-packages (from jupyter-server<2.0.0,>=0.3.0->voila) (3.2.1)\n",
            "Requirement already satisfied: terminado>=0.8.3 in c:\\python\\python39\\lib\\site-packages (from jupyter-server<2.0.0,>=0.3.0->voila) (0.9.2)\n",
            "Requirement already satisfied: websocket-client in c:\\python\\python39\\lib\\site-packages (from jupyter-server<2.0.0,>=0.3.0->voila) (1.1.0)\n",
            "Requirement already satisfied: requests-unixsocket in c:\\python\\python39\\lib\\site-packages (from jupyter-server<2.0.0,>=0.3.0->voila) (0.2.0)\n",
            "Requirement already satisfied: jinja2 in c:\\python\\python39\\lib\\site-packages (from jupyter-server<2.0.0,>=0.3.0->voila) (2.11.3)\n",
            "Requirement already satisfied: Send2Trash in c:\\python\\python39\\lib\\site-packages (from jupyter-server<2.0.0,>=0.3.0->voila) (1.5.0)\n",
            "Requirement already satisfied: nbformat in c:\\python\\python39\\lib\\site-packages (from jupyter-server<2.0.0,>=0.3.0->voila) (5.1.2)\n",
            "Requirement already satisfied: argon2-cffi in c:\\python\\python39\\lib\\site-packages (from jupyter-server<2.0.0,>=0.3.0->voila) (20.1.0)\n",
            "Requirement already satisfied: ipython-genutils in c:\\python\\python39\\lib\\site-packages (from jupyter-server<2.0.0,>=0.3.0->voila) (0.2.0)\n",
            "Requirement already satisfied: prometheus-client in c:\\python\\python39\\lib\\site-packages (from jupyter-server<2.0.0,>=0.3.0->voila) (0.9.0)\n",
            "Requirement already satisfied: sniffio>=1.1 in c:\\python\\python39\\lib\\site-packages (from anyio<4,>=3.1.0->jupyter-server<2.0.0,>=0.3.0->voila) (1.2.0)\n",
            "Requirement already satisfied: idna>=2.8 in c:\\python\\python39\\lib\\site-packages (from anyio<4,>=3.1.0->jupyter-server<2.0.0,>=0.3.0->voila) (2.10)\n",
            "Requirement already satisfied: async-generator in c:\\python\\python39\\lib\\site-packages (from nbclient<0.6,>=0.4.0->voila) (1.10)\n",
            "Requirement already satisfied: nest-asyncio in c:\\python\\python39\\lib\\site-packages (from nbclient<0.6,>=0.4.0->voila) (1.5.1)\n",
            "Requirement already satisfied: mistune<2,>=0.8.1 in c:\\python\\python39\\lib\\site-packages (from nbconvert<7,>=6.0.0->voila) (0.8.4)\n",
            "Requirement already satisfied: jupyterlab-pygments in c:\\python\\python39\\lib\\site-packages (from nbconvert<7,>=6.0.0->voila) (0.1.2)\n",
            "Requirement already satisfied: defusedxml in c:\\python\\python39\\lib\\site-packages (from nbconvert<7,>=6.0.0->voila) (0.6.0)\n",
            "Requirement already satisfied: pygments>=2.4.1 in c:\\python\\python39\\lib\\site-packages (from nbconvert<7,>=6.0.0->voila) (2.8.0)\n",
            "Requirement already satisfied: entrypoints>=0.2.2 in c:\\python\\python39\\lib\\site-packages (from nbconvert<7,>=6.0.0->voila) (0.3)\n",
            "Requirement already satisfied: testpath in c:\\python\\python39\\lib\\site-packages (from nbconvert<7,>=6.0.0->voila) (0.4.4)\n",
            "Requirement already satisfied: bleach in c:\\python\\python39\\lib\\site-packages (from nbconvert<7,>=6.0.0->voila) (3.3.0)\n",
            "Requirement already satisfied: pandocfilters>=1.4.1 in c:\\python\\python39\\lib\\site-packages (from nbconvert<7,>=6.0.0->voila) (1.4.3)\n",
            "Requirement already satisfied: MarkupSafe>=0.23 in c:\\python\\python39\\lib\\site-packages (from jinja2->jupyter-server<2.0.0,>=0.3.0->voila) (1.1.1)\n",
            "Requirement already satisfied: jsonschema!=2.5.0,>=2.4 in c:\\python\\python39\\lib\\site-packages (from nbformat->jupyter-server<2.0.0,>=0.3.0->voila) (3.2.0)\n",
            "Requirement already satisfied: pyrsistent>=0.14.0 in c:\\python\\python39\\lib\\site-packages (from jsonschema!=2.5.0,>=2.4->nbformat->jupyter-server<2.0.0,>=0.3.0->voila) (0.17.3)\n",
            "Requirement already satisfied: attrs>=17.4.0 in c:\\python\\python39\\lib\\site-packages (from jsonschema!=2.5.0,>=2.4->nbformat->jupyter-server<2.0.0,>=0.3.0->voila) (20.3.0)\n",
            "Requirement already satisfied: setuptools in c:\\python\\python39\\lib\\site-packages (from jsonschema!=2.5.0,>=2.4->nbformat->jupyter-server<2.0.0,>=0.3.0->voila) (49.2.1)\n",
            "Requirement already satisfied: six>=1.11.0 in c:\\python\\python39\\lib\\site-packages (from jsonschema!=2.5.0,>=2.4->nbformat->jupyter-server<2.0.0,>=0.3.0->voila) (1.15.0)\n",
            "Requirement already satisfied: pywinpty>=0.5 in c:\\python\\python39\\lib\\site-packages (from terminado>=0.8.3->jupyter-server<2.0.0,>=0.3.0->voila) (0.5.7)\n",
            "Requirement already satisfied: cffi>=1.0.0 in c:\\python\\python39\\lib\\site-packages (from argon2-cffi->jupyter-server<2.0.0,>=0.3.0->voila) (1.14.5)\n",
            "Requirement already satisfied: pycparser in c:\\python\\python39\\lib\\site-packages (from cffi>=1.0.0->argon2-cffi->jupyter-server<2.0.0,>=0.3.0->voila) (2.20)\n",
            "Requirement already satisfied: packaging in c:\\python\\python39\\lib\\site-packages (from bleach->nbconvert<7,>=6.0.0->voila) (20.9)\n",
            "Requirement already satisfied: webencodings in c:\\python\\python39\\lib\\site-packages (from bleach->nbconvert<7,>=6.0.0->voila) (0.5.1)\n",
            "Requirement already satisfied: pyparsing>=2.0.2 in c:\\python\\python39\\lib\\site-packages (from packaging->bleach->nbconvert<7,>=6.0.0->voila) (2.4.7)\n",
            "Requirement already satisfied: urllib3>=1.8 in c:\\python\\python39\\lib\\site-packages (from requests-unixsocket->jupyter-server<2.0.0,>=0.3.0->voila) (1.26.6)\n",
            "Requirement already satisfied: requests>=1.1 in c:\\python\\python39\\lib\\site-packages (from requests-unixsocket->jupyter-server<2.0.0,>=0.3.0->voila) (2.25.1)\n",
            "Requirement already satisfied: certifi>=2017.4.17 in c:\\python\\python39\\lib\\site-packages (from requests>=1.1->requests-unixsocket->jupyter-server<2.0.0,>=0.3.0->voila) (2021.5.30)\n",
            "Requirement already satisfied: chardet<5,>=3.0.2 in c:\\python\\python39\\lib\\site-packages (from requests>=1.1->requests-unixsocket->jupyter-server<2.0.0,>=0.3.0->voila) (4.0.0)\n"
          ]
        }
      ]
    },
    {
      "cell_type": "code",
      "metadata": {
        "id": "626dc389"
      },
      "source": [
        "firstPassword = widgets.Password(\n",
        "    value='',\n",
        "    placeholder='Enter password',\n",
        "    description='Password:',\n",
        "    disabled=False\n",
        ")\n",
        "dataset = pd.read_csv('Grocery Products Purchase.csv')\n",
        "transactions = []\n",
        "for i in range(0,9835):\n",
        "  transactions.append([str(dataset.values[i, j]) for j in range(0,32)])\n",
        "rules = apriori(transactions = transactions, min_support = 0.003, min_confidence = 0.2, min_lift = 1.01, min_length = 2, max_length = 2)"
      ],
      "id": "626dc389",
      "execution_count": 22,
      "outputs": []
    },
    {
      "source": [
        "results = list(rules)"
      ],
      "cell_type": "code",
      "metadata": {
        "tags": [
          "hide"
        ],
        "id": "2553ea18",
        "outputId": "9d0e2ed3-ea0d-4a9b-8c0f-e92ada58f27f"
      },
      "execution_count": 23,
      "outputs": []
    },
    {
      "cell_type": "code",
      "metadata": {
        "tags": [
          "hide"
        ],
        "id": "d6ce0b31"
      },
      "source": [
        "def inspect(results):\n",
        "  lhs = [tuple(result[2][0][0])[0] for result in results]\n",
        "  rhs = [tuple(result[2][0][1])[0] for result in results]\n",
        "  supports = [result[1] for result in results]\n",
        "  confidences = [result[2][0][2] for result in results]\n",
        "  lifts = [result[2][0][3] for result in results]\n",
        "  return list(zip(lhs,rhs, supports, confidences, lifts))\n",
        "resultsinDataFrame = pd.DataFrame(inspect(results), columns = ['Left Hand Side', 'Right Hand Side', 'Support','Confidence', 'lift'])"
      ],
      "id": "d6ce0b31",
      "execution_count": 24,
      "outputs": []
    },
    {
      "cell_type": "code",
      "metadata": {
        "id": "ebad903c"
      },
      "source": [
        "style = {'description_width': 'initial'}\n",
        "limit_case = widgets.IntSlider(\n",
        "    value=3,\n",
        "    min=1,\n",
        "    max=350,\n",
        "    step=1,\n",
        "    description='Show number of rows: ',\n",
        "    disabled=False,\n",
        "    style=style)"
      ],
      "id": "ebad903c",
      "execution_count": 25,
      "outputs": []
    },
    {
      "cell_type": "code",
      "metadata": {
        "id": "99fb2616"
      },
      "source": [
        "unique_columns = widgets.ToggleButtons(\n",
        "    options=['lift', 'Confidence', 'Support'],\n",
        "    description='Sort By:',\n",
        "    disabled=False,\n",
        "    button_style='', # 'success', 'info', 'warning', 'danger' or ''\n",
        "    tooltips=['lift', 'confidence', 'support'],\n",
        "#     icons=['check'] * 3\n",
        ")\n"
      ],
      "id": "99fb2616",
      "execution_count": 26,
      "outputs": []
    },
    {
      "cell_type": "code",
      "metadata": {
        "id": "d07a0520"
      },
      "source": [
        "def update_df_length(limit, category, passcode):\n",
        "    if(passcode == 'Capstone'):\n",
        "        dataset = pd.read_csv('Grocery Products Purchase.csv')\n",
        "        dataset = dataset.iloc[0:limit, :]\n",
        "        print(\"Number of rows in the dataset that have been successfully loaded:\"+str(len(dataset)))\n",
        "        print(resultsinDataFrame.nlargest(n = limit, columns = unique_columns.value))"
      ],
      "id": "d07a0520",
      "execution_count": 27,
      "outputs": []
    },
    {
      "source": [
        "# Kroger Dataset Analysis \n",
        "## The password is \"Capstone\" "
      ],
      "cell_type": "markdown",
      "metadata": {}
    },
    {
      "source": [
        "### Adjust slider to view more rows from the database, Sort by Lift Confidence or Support"
      ],
      "cell_type": "markdown",
      "metadata": {}
    },
    {
      "cell_type": "code",
      "metadata": {
        "id": "8edfa03b",
        "outputId": "b3fc2986-1de3-4013-926a-49310daba3fc",
        "colab": {
          "referenced_widgets": [
            "9022b7e2b03e477aa31f6e50006ca288"
          ]
        }
      },
      "source": [
        "widgets.interactive(update_df_length, limit=limit_case, category = unique_columns, passcode = firstPassword)"
      ],
      "id": "8edfa03b",
      "execution_count": 28,
      "outputs": [
        {
          "output_type": "display_data",
          "data": {
            "text/plain": "interactive(children=(IntSlider(value=3, description='Show number of rows: ', max=350, min=1, style=SliderStyl…",
            "application/vnd.jupyter.widget-view+json": {
              "version_major": 2,
              "version_minor": 0,
              "model_id": "8453a8263700485faf5414e154e87d72"
            }
          },
          "metadata": {}
        }
      ]
    },
    {
      "source": [
        "# Adjust Data in the graph by selecting an item and a criteria\n",
        "## Lift: How likely another item is purchased when selected item is purchased, a lift value > 1 represents increased likelyhood.\n",
        "## Confidence: The probability a customer's cart contains the selected item and the other item.\n",
        "## Support: The Popularity of selected Item + Another Item.\n",
        "\n"
      ],
      "cell_type": "markdown",
      "metadata": {}
    },
    {
      "cell_type": "code",
      "execution_count": 29,
      "metadata": {},
      "outputs": [
        {
          "output_type": "display_data",
          "data": {
            "text/plain": "interactive(children=(SelectMultiple(description='Item', index=(0, 1, 2, 3, 4, 5, 6, 7, 8, 9, 10, 11, 12, 13, …",
            "application/vnd.jupyter.widget-view+json": {
              "version_major": 2,
              "version_minor": 0,
              "model_id": "d3ec551fb6484e4582b4caa403431453"
            }
          },
          "metadata": {}
        }
      ],
      "source": [
        "def update_df_bar(Item, Criteria, passcode):\n",
        "    if(passcode == 'Capstone'):\n",
        "        df = resultsinDataFrame[resultsinDataFrame['Left Hand Side'].isin(np.array(Item))].nlargest(6, np.array(Criteria)[0], keep='first')\n",
        "        \n",
        "        name = df['Right Hand Side'].head(6)\n",
        "        price = df[np.array(Criteria)[0]].head(6)\n",
        "        \n",
        "        # Figure Size\n",
        "        fig, ax = plt.subplots(figsize =(7, 10))\n",
        "        \n",
        "        # Horizontal Bar Plot\n",
        "        if(np.array(Criteria)[0] == ('Support')):\n",
        "            ax.barh(name, price, color = 'green')\n",
        "        elif(np.array(Criteria)[0] == ('Confidence')):\n",
        "            ax.barh(name, price, color = 'blue')\n",
        "        else:\n",
        "            ax.barh(name, price, color = 'red')\n",
        "        # Remove axes splines\n",
        "        for s in ['top', 'bottom', 'left', 'right']:\n",
        "            ax.spines[s].set_visible(False)\n",
        "        \n",
        "        # Remove x, y Ticks\n",
        "        ax.xaxis.set_ticks_position('none')\n",
        "        ax.yaxis.set_ticks_position('none')\n",
        "        \n",
        "    \n",
        "        \n",
        "        # Add x, y gridlines\n",
        "        ax.grid(b = True, color ='grey',\n",
        "                linestyle ='-.', linewidth = 0.5,\n",
        "                alpha = 0.2)\n",
        "        \n",
        "        # Show top values\n",
        "        ax.invert_yaxis()\n",
        "\n",
        "        \n",
        "        # Add Plot Title\n",
        "        ax.set_title(np.array(Criteria)[0] + ' between ' + np.array(Item)[0] + ' and Item',\n",
        "                    loc ='left' )\n",
        "\n",
        "        \n",
        "        # Show Plot\n",
        "        plt.show()\n",
        "\n",
        "from ipywidgets import Layout\n",
        "df = resultsinDataFrame\n",
        "unique_item = df['Left Hand Side'].unique()\n",
        "Item = widgets.SelectMultiple(\n",
        "    options = unique_item.tolist(),\n",
        "    value = unique_item.tolist(),\n",
        "    description='Item',\n",
        "    disabled=False,\n",
        "    layout = Layout(width='50%', height='80px', display='flex')\n",
        ")\n",
        "Criteria = widgets.SelectMultiple(\n",
        "    options = ['Support', 'Confidence', 'lift'],\n",
        "    value = ['Support', 'Confidence', 'lift'],\n",
        "    description = 'Criteria',\n",
        "    disabled=False,\n",
        "    layout = Layout(width='50%', height='80px',display='flex')\n",
        ")\n",
        "\n",
        "widgets.interactive(update_df_bar, Item = Item, Criteria = Criteria, passcode = firstPassword)"
      ]
    },
    {
      "cell_type": "code",
      "execution_count": 30,
      "metadata": {},
      "outputs": [
        {
          "output_type": "display_data",
          "data": {
            "text/plain": "interactive(children=(Password(description='Password:', placeholder='Enter password'), Output()), _dom_classes…",
            "application/vnd.jupyter.widget-view+json": {
              "version_major": 2,
              "version_minor": 0,
              "model_id": "bab44c1a402f4a62b72638bcf63d3cdc"
            }
          },
          "metadata": {}
        }
      ],
      "source": [
        "def barchart(passcode):# Plotting most popular relationships\n",
        "        if(passcode == 'Capstone'):\n",
        "                relationship = ['IFP, H. meat', 'flour, sugar','cheese, W. bread','liquor, beer','herbs, r. vegies','berries, w. cream','rice, r. vegies','flour, margarine','b. powder, w. cream','flour, w. cream']\n",
        "                values = [11.4, 8.4, 5.9,5.2,3.9,3.7,3.7,3.6,3.6,3.2]\n",
        "                fig = plt.figure(figsize = (18, 5))\n",
        "\n",
        "                # creating the bar plot\n",
        "                plt.bar(relationship, values, color ='maroon',\n",
        "                        width = 0.4)\n",
        "\n",
        "                plt.xlabel(\"Relationship\")\n",
        "                plt.ylabel(\"Lift\")\n",
        "                plt.title(\"Top Grocery Store Food Item Relationships\")\n",
        "                plt.show()\n",
        "widgets.interactive(barchart, passcode = firstPassword)"
      ]
    },
    {
      "cell_type": "code",
      "execution_count": null,
      "metadata": {},
      "outputs": [],
      "source": []
    }
  ]
}